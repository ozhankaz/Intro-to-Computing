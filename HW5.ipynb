{
 "cells": [
  {
   "cell_type": "markdown",
   "metadata": {},
   "source": [
    "### Question 1: Consider this following code,"
   ]
  },
  {
   "cell_type": "code",
   "execution_count": 1,
   "metadata": {},
   "outputs": [],
   "source": [
    "class Clock():\n",
    "    def __init__(self, time):\n",
    "        self.time = time\n",
    "    def print_time(self):\n",
    "        time = '6:30'\n",
    "        print(self.time)\n",
    "    \n",
    "clock = Clock('5:30')\n",
    "clock.print_time()"
   ]
  },
  {
   "cell_type": "markdown",
   "metadata": {},
   "source": [
    "#### a) What does the code print out? Guess first, and then write the python code and run it. "
   ]
  },
  {
   "cell_type": "code",
   "execution_count": 2,
   "metadata": {},
   "outputs": [],
   "source": [
    "# My guess is that it will print out: 5:30, and the code printed out what I expected"
   ]
  },
  {
   "cell_type": "markdown",
   "metadata": {},
   "source": [
    "#### b) Why does the cod print this? "
   ]
  },
  {
   "cell_type": "code",
   "execution_count": 3,
   "metadata": {},
   "outputs": [],
   "source": [
    "# First we are creating a class called 'Clock', which contains the attribute time.\n",
    "# Then we are creating a method that prints the value of the Clock's time attribute.\n",
    "# We are then creating an instance of a Clock called clock, we then call the print_time \n",
    "# method on clock."
   ]
  },
  {
   "cell_type": "markdown",
   "metadata": {},
   "source": [
    "### Question 2: Consider the following code, "
   ]
  },
  {
   "cell_type": "code",
   "execution_count": 4,
   "metadata": {},
   "outputs": [],
   "source": [
    "class Clock():\n",
    "    def __init__(self,time):\n",
    "        self.time = time\n",
    "    def print_time(self, time):\n",
    "        print(time)\n",
    "\n",
    "clock = Clock('5:30')\n",
    "clock.print_time('10:30')"
   ]
  },
  {
   "cell_type": "markdown",
   "metadata": {},
   "source": [
    "#### a) What does the code print out? Guess first, and then write the python code and run it."
   ]
  },
  {
   "cell_type": "code",
   "execution_count": 5,
   "metadata": {},
   "outputs": [],
   "source": [
    "# My guess is that it will print out 5:30 again, however it printed out 10:30."
   ]
  },
  {
   "cell_type": "markdown",
   "metadata": {},
   "source": [
    "#### b) What does this tell you about giving parameters the same name as object attributes? "
   ]
  },
  {
   "cell_type": "code",
   "execution_count": 6,
   "metadata": {},
   "outputs": [],
   "source": [
    "# This example highlights the importance of labeling the object attributes and parameters \n",
    "# distinctly from one another, due to the interference/possible confusion for both the author \n",
    "# and reader/audience. "
   ]
  },
  {
   "cell_type": "markdown",
   "metadata": {},
   "source": [
    "### Question 3: Consider the following code, "
   ]
  },
  {
   "cell_type": "code",
   "execution_count": 7,
   "metadata": {},
   "outputs": [],
   "source": [
    "class Clock():\n",
    "    def __init__(self,time):\n",
    "        self.time = time\n",
    "    def print_time(self):\n",
    "        print(self.time)\n",
    "\n",
    "class Clock1(Clock): \n",
    "    pass \n",
    "\n",
    "boston_clock = Clock('5:30')\n",
    "paris_clock = Clock1('10:30')\n",
    "\n",
    "boston_clock.print_time()\n",
    "paris_clock.print_time()"
   ]
  },
  {
   "cell_type": "markdown",
   "metadata": {},
   "source": [
    "#### a) What does the code print out? Guess first, and then write the python code and run it."
   ]
  },
  {
   "cell_type": "code",
   "execution_count": 8,
   "metadata": {},
   "outputs": [],
   "source": [
    "# My guess is that it prints out 5:30 and 10:30, and it printed out 5:30 and then 10:30. "
   ]
  },
  {
   "cell_type": "markdown",
   "metadata": {},
   "source": [
    "#### b) Why does it print what it does? (Are Boston clock and Paris clock different objects? Why or why not?)"
   ]
  },
  {
   "cell_type": "code",
   "execution_count": 9,
   "metadata": {},
   "outputs": [],
   "source": [
    "# Yes, Boston_clock and paris_clock are different objects. This is an example of object inheritance. \n",
    "# Clock1 inherits the properties of Clock, but they are not the same object. "
   ]
  },
  {
   "cell_type": "markdown",
   "metadata": {},
   "source": [
    "### Question 4: Your First Class"
   ]
  },
  {
   "cell_type": "code",
   "execution_count": 10,
   "metadata": {},
   "outputs": [],
   "source": [
    "class Queue():\n",
    "    def __init__(self):\n",
    "        self.content = []\n",
    "        \n",
    "    def insert(self, value):\n",
    "        self.content.append(value)\n",
    "        \n",
    "    def remove(self):\n",
    "        if len(self.content) == 0:\n",
    "            print(\"Queue is empty now.\")\n",
    "        else:\n",
    "            self.content.pop(0)\n",
    "\n",
    "    def print(self):\n",
    "        print(self.content)"
   ]
  },
  {
   "cell_type": "code",
   "execution_count": 11,
   "metadata": {},
   "outputs": [],
   "source": [
    "my_queue = Queue()\n",
    "my_queue.insert(5)\n",
    "my_queue.insert(6)\n",
    "my_queue.print()"
   ]
  },
  {
   "cell_type": "code",
   "execution_count": 12,
   "metadata": {},
   "outputs": [],
   "source": [
    "my_queue.insert(7)\n",
    "my_queue.remove()\n",
    "my_queue.print()"
   ]
  },
  {
   "cell_type": "code",
   "execution_count": 13,
   "metadata": {},
   "outputs": [],
   "source": [
    "my_queue.remove()\n",
    "my_queue.remove()\n",
    "my_queue.remove()"
   ]
  }
 ],
 "metadata": {
  "kernelspec": {
   "display_name": "Python 3",
   "language": "python",
   "name": "python3"
  },
  "language_info": {
   "codemirror_mode": {
    "name": "ipython",
    "version": 3
   },
   "file_extension": ".py",
   "mimetype": "text/x-python",
   "name": "python",
   "nbconvert_exporter": "python",
   "pygments_lexer": "ipython3",
   "version": "3.8.5"
  }
 },
 "nbformat": 4,
 "nbformat_minor": 4
}
