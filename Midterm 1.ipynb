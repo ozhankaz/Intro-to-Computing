{
 "cells": [
  {
   "cell_type": "markdown",
   "metadata": {},
   "source": [
    "## Question 1\n",
    "### Counting the frequencies in a list using dictionary in Python Given an unsorted list of some elements "
   ]
  },
  {
   "cell_type": "code",
   "execution_count": 1,
   "metadata": {},
   "outputs": [],
   "source": [
    "from collections import Counter\n",
    "from pprint import pprint # to print dictionary in numerical order\n",
    "import json"
   ]
  },
  {
   "cell_type": "code",
   "execution_count": 2,
   "metadata": {},
   "outputs": [],
   "source": [
    "list_num = [2,4,6,8,4,5,2,1,9,0,4,6,7,4,3,2,1,9,10,3,7,9,6,0,1,3,5,6,7,8,9,10,2,3,6,8,9,10,6,7,4,3]"
   ]
  },
  {
   "cell_type": "code",
   "execution_count": 3,
   "metadata": {},
   "outputs": [
    {
     "name": "stdout",
     "output_type": "stream",
     "text": [
      "{0: 2, 1: 3, 2: 4, 3: 5, 4: 5, 5: 2, 6: 6, 7: 4, 8: 3, 9: 5, 10: 3}\n"
     ]
    }
   ],
   "source": [
    "#calculating an output for frequency of distinct elements \n",
    "list_dict = {num: list_num.count(num) for num in list_num}\n",
    "pprint(list_dict) #for numerical order"
   ]
  },
  {
   "cell_type": "code",
   "execution_count": 4,
   "metadata": {},
   "outputs": [],
   "source": [
    "import matplotlib.pyplot as plt"
   ]
  },
  {
   "cell_type": "code",
   "execution_count": 47,
   "metadata": {},
   "outputs": [
    {
     "data": {
      "image/png": "[encoded data removed]",
      "text/plain": [
       "<Figure size 432x288 with 1 Axes>"
      ]
     },
     "metadata": {
      "needs_background": "light"
     },
     "output_type": "display_data"
    }
   ],
   "source": [
    "#Plotting frequency of ea. distinct element using dictionary \n",
    "plt.bar(range(len(list_dict)), list(list_dict.values()))\n",
    "plt.xticks(range(len(list_dict)), list(list_dict.keys()).sort())\n",
    "plt.title(\"Frequency Histogram of Number List\")\n",
    "plt.xlabel(\"Number\")\n",
    "plt.ylabel(\"Count\")\n",
    "plt.show()"
   ]
  },
  {
   "cell_type": "code",
   "execution_count": 6,
   "metadata": {},
   "outputs": [
    {
     "name": "stdout",
     "output_type": "stream",
     "text": [
      "{\"2\": 4, \"4\": 5, \"6\": 6, \"8\": 3, \"5\": 2, \"1\": 3, \"9\": 5, \"0\": 2, \"7\": 4, \"3\": 5, \"10\": 3}\n"
     ]
    }
   ],
   "source": [
    "jsonified_dict = json.dumps(list_dict)\n",
    "print(jsonified_dict)"
   ]
  },
  {
   "cell_type": "markdown",
   "metadata": {},
   "source": [
    "## Question 2\n",
    "### Choice 2: How Much Have You Spent on Amazon? Analyze Amazon Data in different ways, plot your historical transactions amount. You can either summarize that into monthly payment, or show your mean payment, and so on. "
   ]
  },
  {
   "cell_type": "code",
   "execution_count": 7,
   "metadata": {},
   "outputs": [],
   "source": [
    "import pandas as pd\n",
    "from datetime import datetime as dt"
   ]
  },
  {
   "cell_type": "code",
   "execution_count": 8,
   "metadata": {},
   "outputs": [],
   "source": [
    "amazon_data = pd.read_csv('AmazonData.csv')"
   ]
  },
  {
   "cell_type": "code",
   "execution_count": 55,
   "metadata": {},
   "outputs": [
    {
     "data": {
      "text/html": [
       "<div>\n",
       "<style scoped>\n",
       "    .dataframe tbody tr th:only-of-type {\n",
       "        vertical-align: middle;\n",
       "    }\n",
       "\n",
       "    .dataframe tbody tr th {\n",
       "        vertical-align: top;\n",
       "    }\n",
       "\n",
       "    .dataframe thead th {\n",
       "        text-align: right;\n",
       "    }\n",
       "</style>\n",
       "<table border=\"1\" class=\"dataframe\">\n",
       "  <thead>\n",
       "    <tr style=\"text-align: right;\">\n",
       "      <th></th>\n",
       "      <th>Order Date</th>\n",
       "      <th>Order ID</th>\n",
       "      <th>Title</th>\n",
       "      <th>Category</th>\n",
       "      <th>ASIN/ISBN</th>\n",
       "      <th>UNSPSC Code</th>\n",
       "      <th>Website</th>\n",
       "      <th>Release Date</th>\n",
       "      <th>Condition</th>\n",
       "      <th>Seller</th>\n",
       "      <th>...</th>\n",
       "      <th>Carrier Name &amp; Tracking Number</th>\n",
       "      <th>Item Subtotal</th>\n",
       "      <th>Item Subtotal Tax</th>\n",
       "      <th>Item Total</th>\n",
       "      <th>Tax Exemption Applied</th>\n",
       "      <th>Tax Exemption Type</th>\n",
       "      <th>Exemption Opt-Out</th>\n",
       "      <th>Buyer Name</th>\n",
       "      <th>Currency</th>\n",
       "      <th>Group Name</th>\n",
       "    </tr>\n",
       "  </thead>\n",
       "  <tbody>\n",
       "    <tr>\n",
       "      <th>339</th>\n",
       "      <td>2021-02-21</td>\n",
       "      <td>111-9988820-0818634</td>\n",
       "      <td>SOEOS Sichuan Pixian Broad Bean Paste with Chi...</td>\n",
       "      <td>SAUCE</td>\n",
       "      <td>B07SW185XV</td>\n",
       "      <td>50170000.0</td>\n",
       "      <td>Amazon.com</td>\n",
       "      <td>NaN</td>\n",
       "      <td>new</td>\n",
       "      <td>Natural Style USA</td>\n",
       "      <td>...</td>\n",
       "      <td>AMZN_US(TBA175085477404)</td>\n",
       "      <td>$14.20</td>\n",
       "      <td>$0.00</td>\n",
       "      <td>14.20</td>\n",
       "      <td>NaN</td>\n",
       "      <td>NaN</td>\n",
       "      <td>NaN</td>\n",
       "      <td>Ozhan</td>\n",
       "      <td>USD</td>\n",
       "      <td>NaN</td>\n",
       "    </tr>\n",
       "    <tr>\n",
       "      <th>340</th>\n",
       "      <td>2021-03-01</td>\n",
       "      <td>111-0374278-8783414</td>\n",
       "      <td>MIYA Gouache Paint Set, 24 Colors x 30ml Uniqu...</td>\n",
       "      <td>PAINT</td>\n",
       "      <td>B084YV6DXH</td>\n",
       "      <td>31210000.0</td>\n",
       "      <td>Amazon.com</td>\n",
       "      <td>NaN</td>\n",
       "      <td>new</td>\n",
       "      <td>Artsy Supplies</td>\n",
       "      <td>...</td>\n",
       "      <td>AMZN_US(TBA183457846204)</td>\n",
       "      <td>$29.99</td>\n",
       "      <td>$1.71</td>\n",
       "      <td>31.70</td>\n",
       "      <td>False</td>\n",
       "      <td>NaN</td>\n",
       "      <td>False</td>\n",
       "      <td>Ozhan</td>\n",
       "      <td>USD</td>\n",
       "      <td>NaN</td>\n",
       "    </tr>\n",
       "    <tr>\n",
       "      <th>341</th>\n",
       "      <td>2021-03-03</td>\n",
       "      <td>113-6108987-0414610</td>\n",
       "      <td>MIYA Gouache Paint Set, 24 Colors x 30ml Uniqu...</td>\n",
       "      <td>PAINT</td>\n",
       "      <td>B084YV6DXH</td>\n",
       "      <td>31210000.0</td>\n",
       "      <td>Amazon.com</td>\n",
       "      <td>NaN</td>\n",
       "      <td>new</td>\n",
       "      <td>Artsy Supplies</td>\n",
       "      <td>...</td>\n",
       "      <td>AMZN_US(TBA185504713804)</td>\n",
       "      <td>$0.00</td>\n",
       "      <td>$0.00</td>\n",
       "      <td>0.00</td>\n",
       "      <td>NaN</td>\n",
       "      <td>NaN</td>\n",
       "      <td>NaN</td>\n",
       "      <td>Ozhan</td>\n",
       "      <td>USD</td>\n",
       "      <td>NaN</td>\n",
       "    </tr>\n",
       "    <tr>\n",
       "      <th>342</th>\n",
       "      <td>2021-03-05</td>\n",
       "      <td>111-5370934-7175459</td>\n",
       "      <td>HIMI Gouache Paint Set, 24 Colors x 30ml Uniqu...</td>\n",
       "      <td>PAINT</td>\n",
       "      <td>B086WZCKCQ</td>\n",
       "      <td>31211500.0</td>\n",
       "      <td>Amazon.com</td>\n",
       "      <td>NaN</td>\n",
       "      <td>new</td>\n",
       "      <td>XSG</td>\n",
       "      <td>...</td>\n",
       "      <td>AMZN_US(TBA187878026104)</td>\n",
       "      <td>$29.99</td>\n",
       "      <td>$1.80</td>\n",
       "      <td>31.79</td>\n",
       "      <td>False</td>\n",
       "      <td>NaN</td>\n",
       "      <td>False</td>\n",
       "      <td>Ozhan</td>\n",
       "      <td>USD</td>\n",
       "      <td>NaN</td>\n",
       "    </tr>\n",
       "    <tr>\n",
       "      <th>343</th>\n",
       "      <td>2021-03-11</td>\n",
       "      <td>111-8046325-9437053</td>\n",
       "      <td>Arm &amp; Hammer Clean Burst Liquid Laundry Deterg...</td>\n",
       "      <td>LAUNDRY_DETERGENT</td>\n",
       "      <td>B0187S2XHO</td>\n",
       "      <td>47131811.0</td>\n",
       "      <td>Amazon.com</td>\n",
       "      <td>NaN</td>\n",
       "      <td>new</td>\n",
       "      <td>Amazon.com</td>\n",
       "      <td>...</td>\n",
       "      <td>AMZN_US(TBA194414480604)</td>\n",
       "      <td>$5.99</td>\n",
       "      <td>$0.36</td>\n",
       "      <td>6.35</td>\n",
       "      <td>False</td>\n",
       "      <td>NaN</td>\n",
       "      <td>False</td>\n",
       "      <td>Ozhan</td>\n",
       "      <td>USD</td>\n",
       "      <td>NaN</td>\n",
       "    </tr>\n",
       "  </tbody>\n",
       "</table>\n",
       "<p>5 rows × 36 columns</p>\n",
       "</div>"
      ],
      "text/plain": [
       "    Order Date             Order ID  \\\n",
       "339 2021-02-21  111-9988820-0818634   \n",
       "340 2021-03-01  111-0374278-8783414   \n",
       "341 2021-03-03  113-6108987-0414610   \n",
       "342 2021-03-05  111-5370934-7175459   \n",
       "343 2021-03-11  111-8046325-9437053   \n",
       "\n",
       "                                                 Title           Category  \\\n",
       "339  SOEOS Sichuan Pixian Broad Bean Paste with Chi...              SAUCE   \n",
       "340  MIYA Gouache Paint Set, 24 Colors x 30ml Uniqu...              PAINT   \n",
       "341  MIYA Gouache Paint Set, 24 Colors x 30ml Uniqu...              PAINT   \n",
       "342  HIMI Gouache Paint Set, 24 Colors x 30ml Uniqu...              PAINT   \n",
       "343  Arm & Hammer Clean Burst Liquid Laundry Deterg...  LAUNDRY_DETERGENT   \n",
       "\n",
       "      ASIN/ISBN  UNSPSC Code     Website Release Date Condition  \\\n",
       "339  B07SW185XV   50170000.0  Amazon.com          NaN       new   \n",
       "340  B084YV6DXH   31210000.0  Amazon.com          NaN       new   \n",
       "341  B084YV6DXH   31210000.0  Amazon.com          NaN       new   \n",
       "342  B086WZCKCQ   31211500.0  Amazon.com          NaN       new   \n",
       "343  B0187S2XHO   47131811.0  Amazon.com          NaN       new   \n",
       "\n",
       "                Seller  ... Carrier Name & Tracking Number Item Subtotal  \\\n",
       "339  Natural Style USA  ...       AMZN_US(TBA175085477404)        $14.20   \n",
       "340     Artsy Supplies  ...       AMZN_US(TBA183457846204)        $29.99   \n",
       "341     Artsy Supplies  ...       AMZN_US(TBA185504713804)         $0.00   \n",
       "342                XSG  ...       AMZN_US(TBA187878026104)        $29.99   \n",
       "343         Amazon.com  ...       AMZN_US(TBA194414480604)         $5.99   \n",
       "\n",
       "    Item Subtotal Tax  Item Total Tax Exemption Applied  Tax Exemption Type  \\\n",
       "339             $0.00       14.20                   NaN                 NaN   \n",
       "340             $1.71       31.70                 False                 NaN   \n",
       "341             $0.00        0.00                   NaN                 NaN   \n",
       "342             $1.80       31.79                 False                 NaN   \n",
       "343             $0.36        6.35                 False                 NaN   \n",
       "\n",
       "     Exemption Opt-Out Buyer Name Currency Group Name  \n",
       "339                NaN      Ozhan      USD        NaN  \n",
       "340              False      Ozhan      USD        NaN  \n",
       "341                NaN      Ozhan      USD        NaN  \n",
       "342              False      Ozhan      USD        NaN  \n",
       "343              False      Ozhan      USD        NaN  \n",
       "\n",
       "[5 rows x 36 columns]"
      ]
     },
     "execution_count": 55,
     "metadata": {},
     "output_type": "execute_result"
    }
   ],
   "source": [
    "#inspect the data\n",
    "amazon_data.tail()"
   ]
  },
  {
   "cell_type": "code",
   "execution_count": 10,
   "metadata": {},
   "outputs": [
    {
     "name": "stdout",
     "output_type": "stream",
     "text": [
      "I have purchased 344 items since Jan 2017!\n"
     ]
    }
   ],
   "source": [
    "print(\"I have purchased\", len(amazon_data), \"items since Jan 2017!\")"
   ]
  },
  {
   "cell_type": "code",
   "execution_count": 11,
   "metadata": {},
   "outputs": [
    {
     "data": {
      "text/plain": [
       "['Order Date',\n",
       " 'Order ID',\n",
       " 'Title',\n",
       " 'Category',\n",
       " 'ASIN/ISBN',\n",
       " 'UNSPSC Code',\n",
       " 'Website',\n",
       " 'Release Date',\n",
       " 'Condition',\n",
       " 'Seller',\n",
       " 'Seller Credentials',\n",
       " 'List Price Per Unit',\n",
       " 'Purchase Price Per Unit',\n",
       " 'Quantity',\n",
       " 'Payment Instrument Type',\n",
       " 'Purchase Order Number',\n",
       " 'PO Line Number',\n",
       " 'Ordering Customer Email',\n",
       " 'Shipment Date',\n",
       " 'Shipping Address Name',\n",
       " 'Shipping Address Street 1',\n",
       " 'Shipping Address Street 2',\n",
       " 'Shipping Address City',\n",
       " 'Shipping Address State',\n",
       " 'Shipping Address Zip',\n",
       " 'Order Status',\n",
       " 'Carrier Name & Tracking Number',\n",
       " 'Item Subtotal',\n",
       " 'Item Subtotal Tax',\n",
       " 'Item Total',\n",
       " 'Tax Exemption Applied',\n",
       " 'Tax Exemption Type',\n",
       " 'Exemption Opt-Out',\n",
       " 'Buyer Name',\n",
       " 'Currency',\n",
       " 'Group Name']"
      ]
     },
     "execution_count": 11,
     "metadata": {},
     "output_type": "execute_result"
    }
   ],
   "source": [
    "# What columns are available in the dataset?\n",
    "list(amazon_data.columns)"
   ]
  },
  {
   "cell_type": "code",
   "execution_count": 12,
   "metadata": {},
   "outputs": [
    {
     "data": {
      "text/plain": [
       "str"
      ]
     },
     "execution_count": 12,
     "metadata": {},
     "output_type": "execute_result"
    }
   ],
   "source": [
    "type(amazon_data['Order Date'][0])"
   ]
  },
  {
   "cell_type": "code",
   "execution_count": 13,
   "metadata": {},
   "outputs": [],
   "source": [
    "# Convert order date to DateTIme format so we can group by month and year\n",
    "amazon_data['Order Date'] = amazon_data['Order Date'].astype('datetime64[ns]')"
   ]
  },
  {
   "cell_type": "code",
   "execution_count": 14,
   "metadata": {},
   "outputs": [
    {
     "data": {
      "text/plain": [
       "pandas._libs.tslibs.timestamps.Timestamp"
      ]
     },
     "execution_count": 14,
     "metadata": {},
     "output_type": "execute_result"
    }
   ],
   "source": [
    "type(amazon_data['Order Date'][0])"
   ]
  },
  {
   "cell_type": "code",
   "execution_count": 15,
   "metadata": {},
   "outputs": [],
   "source": [
    "#Item total is in string format, we want to remove '$' and make it numeric\n",
    "amazon_data['Item Total'] = amazon_data['Item Total'].str.strip('$')"
   ]
  },
  {
   "cell_type": "code",
   "execution_count": 16,
   "metadata": {},
   "outputs": [
    {
     "data": {
      "text/html": [
       "<div>\n",
       "<style scoped>\n",
       "    .dataframe tbody tr th:only-of-type {\n",
       "        vertical-align: middle;\n",
       "    }\n",
       "\n",
       "    .dataframe tbody tr th {\n",
       "        vertical-align: top;\n",
       "    }\n",
       "\n",
       "    .dataframe thead th {\n",
       "        text-align: right;\n",
       "    }\n",
       "</style>\n",
       "<table border=\"1\" class=\"dataframe\">\n",
       "  <thead>\n",
       "    <tr style=\"text-align: right;\">\n",
       "      <th></th>\n",
       "      <th>Order Date</th>\n",
       "      <th>Order ID</th>\n",
       "      <th>Title</th>\n",
       "      <th>Category</th>\n",
       "      <th>ASIN/ISBN</th>\n",
       "      <th>UNSPSC Code</th>\n",
       "      <th>Website</th>\n",
       "      <th>Release Date</th>\n",
       "      <th>Condition</th>\n",
       "      <th>Seller</th>\n",
       "      <th>...</th>\n",
       "      <th>Carrier Name &amp; Tracking Number</th>\n",
       "      <th>Item Subtotal</th>\n",
       "      <th>Item Subtotal Tax</th>\n",
       "      <th>Item Total</th>\n",
       "      <th>Tax Exemption Applied</th>\n",
       "      <th>Tax Exemption Type</th>\n",
       "      <th>Exemption Opt-Out</th>\n",
       "      <th>Buyer Name</th>\n",
       "      <th>Currency</th>\n",
       "      <th>Group Name</th>\n",
       "    </tr>\n",
       "  </thead>\n",
       "  <tbody>\n",
       "    <tr>\n",
       "      <th>0</th>\n",
       "      <td>2017-09-26</td>\n",
       "      <td>112-3458314-9301825</td>\n",
       "      <td>Sally Hansen Instant Cuticle Remover, 1 Fluid ...</td>\n",
       "      <td>HEALTH_PERSONAL_CARE</td>\n",
       "      <td>B00CS65RNO</td>\n",
       "      <td>53131600.0</td>\n",
       "      <td>Amazon.com</td>\n",
       "      <td>NaN</td>\n",
       "      <td>new</td>\n",
       "      <td>oneofakinddeals</td>\n",
       "      <td>...</td>\n",
       "      <td>USPS(9400111899220402086985)</td>\n",
       "      <td>$6.99</td>\n",
       "      <td>$0.00</td>\n",
       "      <td>6.99</td>\n",
       "      <td>NaN</td>\n",
       "      <td>NaN</td>\n",
       "      <td>NaN</td>\n",
       "      <td>Ozhan</td>\n",
       "      <td>USD</td>\n",
       "      <td>NaN</td>\n",
       "    </tr>\n",
       "    <tr>\n",
       "      <th>1</th>\n",
       "      <td>2017-09-26</td>\n",
       "      <td>112-4674148-8600220</td>\n",
       "      <td>INM Northern Lights Hologram Top Coat DUO</td>\n",
       "      <td>NAIL_POLISH</td>\n",
       "      <td>B00PJ690B0</td>\n",
       "      <td>53131638.0</td>\n",
       "      <td>Amazon.com</td>\n",
       "      <td>NaN</td>\n",
       "      <td>new</td>\n",
       "      <td>Nail Emporium</td>\n",
       "      <td>...</td>\n",
       "      <td>USPS(9400 1118 9956 4667 9639 34)</td>\n",
       "      <td>$7.49</td>\n",
       "      <td>$0.00</td>\n",
       "      <td>7.49</td>\n",
       "      <td>NaN</td>\n",
       "      <td>NaN</td>\n",
       "      <td>NaN</td>\n",
       "      <td>Ozhan</td>\n",
       "      <td>USD</td>\n",
       "      <td>NaN</td>\n",
       "    </tr>\n",
       "    <tr>\n",
       "      <th>2</th>\n",
       "      <td>2017-09-26</td>\n",
       "      <td>112-6316417-0887425</td>\n",
       "      <td>Cuticle Pusher and Cutter - Professional Grade...</td>\n",
       "      <td>SCISSORS</td>\n",
       "      <td>B01E79ZI8I</td>\n",
       "      <td>53131600.0</td>\n",
       "      <td>Amazon.com</td>\n",
       "      <td>NaN</td>\n",
       "      <td>new</td>\n",
       "      <td>Utopia Deals</td>\n",
       "      <td>...</td>\n",
       "      <td>USPS(9374889678090352739919)</td>\n",
       "      <td>$6.99</td>\n",
       "      <td>$0.00</td>\n",
       "      <td>6.99</td>\n",
       "      <td>NaN</td>\n",
       "      <td>NaN</td>\n",
       "      <td>NaN</td>\n",
       "      <td>Ozhan</td>\n",
       "      <td>USD</td>\n",
       "      <td>NaN</td>\n",
       "    </tr>\n",
       "    <tr>\n",
       "      <th>3</th>\n",
       "      <td>2017-09-26</td>\n",
       "      <td>112-6316417-0887425</td>\n",
       "      <td>Glass Cuticle Stick in Leather Case – Original...</td>\n",
       "      <td>HEALTH_PERSONAL_CARE</td>\n",
       "      <td>B017CHT81A</td>\n",
       "      <td>55111500.0</td>\n",
       "      <td>Amazon.com</td>\n",
       "      <td>NaN</td>\n",
       "      <td>new</td>\n",
       "      <td>Zamberg</td>\n",
       "      <td>...</td>\n",
       "      <td>USPS(9374889678090352739919)</td>\n",
       "      <td>$8.96</td>\n",
       "      <td>$0.00</td>\n",
       "      <td>8.96</td>\n",
       "      <td>NaN</td>\n",
       "      <td>NaN</td>\n",
       "      <td>NaN</td>\n",
       "      <td>Ozhan</td>\n",
       "      <td>USD</td>\n",
       "      <td>NaN</td>\n",
       "    </tr>\n",
       "    <tr>\n",
       "      <th>4</th>\n",
       "      <td>2017-09-26</td>\n",
       "      <td>112-6316417-0887425</td>\n",
       "      <td>Bliss Kiss Simply Pure Cuticle &amp; Nail Oil Pen ...</td>\n",
       "      <td>SKIN_MOISTURIZER</td>\n",
       "      <td>B00DYMYRX2</td>\n",
       "      <td>53131600.0</td>\n",
       "      <td>Amazon.com</td>\n",
       "      <td>NaN</td>\n",
       "      <td>new</td>\n",
       "      <td>Bliss Kiss</td>\n",
       "      <td>...</td>\n",
       "      <td>USPS(9374889678090352739919)</td>\n",
       "      <td>$7.45</td>\n",
       "      <td>$0.00</td>\n",
       "      <td>7.45</td>\n",
       "      <td>NaN</td>\n",
       "      <td>NaN</td>\n",
       "      <td>NaN</td>\n",
       "      <td>Ozhan</td>\n",
       "      <td>USD</td>\n",
       "      <td>NaN</td>\n",
       "    </tr>\n",
       "  </tbody>\n",
       "</table>\n",
       "<p>5 rows × 36 columns</p>\n",
       "</div>"
      ],
      "text/plain": [
       "  Order Date             Order ID  \\\n",
       "0 2017-09-26  112-3458314-9301825   \n",
       "1 2017-09-26  112-4674148-8600220   \n",
       "2 2017-09-26  112-6316417-0887425   \n",
       "3 2017-09-26  112-6316417-0887425   \n",
       "4 2017-09-26  112-6316417-0887425   \n",
       "\n",
       "                                               Title              Category  \\\n",
       "0  Sally Hansen Instant Cuticle Remover, 1 Fluid ...  HEALTH_PERSONAL_CARE   \n",
       "1          INM Northern Lights Hologram Top Coat DUO           NAIL_POLISH   \n",
       "2  Cuticle Pusher and Cutter - Professional Grade...              SCISSORS   \n",
       "3  Glass Cuticle Stick in Leather Case – Original...  HEALTH_PERSONAL_CARE   \n",
       "4  Bliss Kiss Simply Pure Cuticle & Nail Oil Pen ...      SKIN_MOISTURIZER   \n",
       "\n",
       "    ASIN/ISBN  UNSPSC Code     Website Release Date Condition  \\\n",
       "0  B00CS65RNO   53131600.0  Amazon.com          NaN       new   \n",
       "1  B00PJ690B0   53131638.0  Amazon.com          NaN       new   \n",
       "2  B01E79ZI8I   53131600.0  Amazon.com          NaN       new   \n",
       "3  B017CHT81A   55111500.0  Amazon.com          NaN       new   \n",
       "4  B00DYMYRX2   53131600.0  Amazon.com          NaN       new   \n",
       "\n",
       "            Seller  ...     Carrier Name & Tracking Number Item Subtotal  \\\n",
       "0  oneofakinddeals  ...       USPS(9400111899220402086985)         $6.99   \n",
       "1    Nail Emporium  ...  USPS(9400 1118 9956 4667 9639 34)         $7.49   \n",
       "2     Utopia Deals  ...       USPS(9374889678090352739919)         $6.99   \n",
       "3          Zamberg  ...       USPS(9374889678090352739919)         $8.96   \n",
       "4       Bliss Kiss  ...       USPS(9374889678090352739919)         $7.45   \n",
       "\n",
       "  Item Subtotal Tax  Item Total Tax Exemption Applied  Tax Exemption Type  \\\n",
       "0             $0.00        6.99                   NaN                 NaN   \n",
       "1             $0.00        7.49                   NaN                 NaN   \n",
       "2             $0.00        6.99                   NaN                 NaN   \n",
       "3             $0.00        8.96                   NaN                 NaN   \n",
       "4             $0.00        7.45                   NaN                 NaN   \n",
       "\n",
       "   Exemption Opt-Out Buyer Name Currency Group Name  \n",
       "0                NaN      Ozhan      USD        NaN  \n",
       "1                NaN      Ozhan      USD        NaN  \n",
       "2                NaN      Ozhan      USD        NaN  \n",
       "3                NaN      Ozhan      USD        NaN  \n",
       "4                NaN      Ozhan      USD        NaN  \n",
       "\n",
       "[5 rows x 36 columns]"
      ]
     },
     "execution_count": 16,
     "metadata": {},
     "output_type": "execute_result"
    }
   ],
   "source": [
    "amazon_data.head()"
   ]
  },
  {
   "cell_type": "code",
   "execution_count": 17,
   "metadata": {},
   "outputs": [
    {
     "data": {
      "text/plain": [
       "str"
      ]
     },
     "execution_count": 17,
     "metadata": {},
     "output_type": "execute_result"
    }
   ],
   "source": [
    "type(amazon_data['Item Total'][0])"
   ]
  },
  {
   "cell_type": "code",
   "execution_count": 19,
   "metadata": {},
   "outputs": [],
   "source": [
    "#Converting from string format to numerical format to allow summation \n",
    "amazon_data['Item Total'] = amazon_data['Item Total'].astype(float)"
   ]
  },
  {
   "cell_type": "code",
   "execution_count": 20,
   "metadata": {},
   "outputs": [
    {
     "data": {
      "text/plain": [
       "numpy.float64"
      ]
     },
     "execution_count": 20,
     "metadata": {},
     "output_type": "execute_result"
    }
   ],
   "source": [
    "type(amazon_data['Item Total'][0])"
   ]
  },
  {
   "cell_type": "code",
   "execution_count": 26,
   "metadata": {},
   "outputs": [],
   "source": [
    "#New data frame that groups by year then month and gives monthly sum of Item Total\n",
    "amazon_grouped = amazon_data.groupby([amazon_data['Order Date'].dt.year,\n",
    "                                    amazon_data['Order Date'].dt.month]).agg({'Item Total': sum})"
   ]
  },
  {
   "cell_type": "code",
   "execution_count": 32,
   "metadata": {},
   "outputs": [
    {
     "data": {
      "text/html": [
       "<div>\n",
       "<style scoped>\n",
       "    .dataframe tbody tr th:only-of-type {\n",
       "        vertical-align: middle;\n",
       "    }\n",
       "\n",
       "    .dataframe tbody tr th {\n",
       "        vertical-align: top;\n",
       "    }\n",
       "\n",
       "    .dataframe thead th {\n",
       "        text-align: right;\n",
       "    }\n",
       "</style>\n",
       "<table border=\"1\" class=\"dataframe\">\n",
       "  <thead>\n",
       "    <tr style=\"text-align: right;\">\n",
       "      <th></th>\n",
       "      <th></th>\n",
       "      <th>Item Total</th>\n",
       "    </tr>\n",
       "    <tr>\n",
       "      <th>Order Date</th>\n",
       "      <th>Order Date</th>\n",
       "      <th></th>\n",
       "    </tr>\n",
       "  </thead>\n",
       "  <tbody>\n",
       "    <tr>\n",
       "      <th rowspan=\"4\" valign=\"top\">2017</th>\n",
       "      <th>9</th>\n",
       "      <td>82.31</td>\n",
       "    </tr>\n",
       "    <tr>\n",
       "      <th>10</th>\n",
       "      <td>40.93</td>\n",
       "    </tr>\n",
       "    <tr>\n",
       "      <th>11</th>\n",
       "      <td>121.17</td>\n",
       "    </tr>\n",
       "    <tr>\n",
       "      <th>12</th>\n",
       "      <td>117.84</td>\n",
       "    </tr>\n",
       "    <tr>\n",
       "      <th rowspan=\"11\" valign=\"top\">2018</th>\n",
       "      <th>1</th>\n",
       "      <td>189.05</td>\n",
       "    </tr>\n",
       "    <tr>\n",
       "      <th>2</th>\n",
       "      <td>126.36</td>\n",
       "    </tr>\n",
       "    <tr>\n",
       "      <th>3</th>\n",
       "      <td>111.28</td>\n",
       "    </tr>\n",
       "    <tr>\n",
       "      <th>4</th>\n",
       "      <td>297.87</td>\n",
       "    </tr>\n",
       "    <tr>\n",
       "      <th>5</th>\n",
       "      <td>162.13</td>\n",
       "    </tr>\n",
       "    <tr>\n",
       "      <th>6</th>\n",
       "      <td>66.15</td>\n",
       "    </tr>\n",
       "    <tr>\n",
       "      <th>8</th>\n",
       "      <td>38.18</td>\n",
       "    </tr>\n",
       "    <tr>\n",
       "      <th>9</th>\n",
       "      <td>55.26</td>\n",
       "    </tr>\n",
       "    <tr>\n",
       "      <th>10</th>\n",
       "      <td>6.99</td>\n",
       "    </tr>\n",
       "    <tr>\n",
       "      <th>11</th>\n",
       "      <td>51.04</td>\n",
       "    </tr>\n",
       "    <tr>\n",
       "      <th>12</th>\n",
       "      <td>65.31</td>\n",
       "    </tr>\n",
       "    <tr>\n",
       "      <th rowspan=\"10\" valign=\"top\">2019</th>\n",
       "      <th>1</th>\n",
       "      <td>79.94</td>\n",
       "    </tr>\n",
       "    <tr>\n",
       "      <th>2</th>\n",
       "      <td>78.44</td>\n",
       "    </tr>\n",
       "    <tr>\n",
       "      <th>3</th>\n",
       "      <td>344.01</td>\n",
       "    </tr>\n",
       "    <tr>\n",
       "      <th>5</th>\n",
       "      <td>108.12</td>\n",
       "    </tr>\n",
       "    <tr>\n",
       "      <th>7</th>\n",
       "      <td>40.08</td>\n",
       "    </tr>\n",
       "    <tr>\n",
       "      <th>8</th>\n",
       "      <td>59.93</td>\n",
       "    </tr>\n",
       "    <tr>\n",
       "      <th>9</th>\n",
       "      <td>127.49</td>\n",
       "    </tr>\n",
       "    <tr>\n",
       "      <th>10</th>\n",
       "      <td>78.11</td>\n",
       "    </tr>\n",
       "    <tr>\n",
       "      <th>11</th>\n",
       "      <td>305.73</td>\n",
       "    </tr>\n",
       "    <tr>\n",
       "      <th>12</th>\n",
       "      <td>471.04</td>\n",
       "    </tr>\n",
       "    <tr>\n",
       "      <th rowspan=\"12\" valign=\"top\">2020</th>\n",
       "      <th>1</th>\n",
       "      <td>224.06</td>\n",
       "    </tr>\n",
       "    <tr>\n",
       "      <th>2</th>\n",
       "      <td>127.18</td>\n",
       "    </tr>\n",
       "    <tr>\n",
       "      <th>3</th>\n",
       "      <td>210.25</td>\n",
       "    </tr>\n",
       "    <tr>\n",
       "      <th>4</th>\n",
       "      <td>291.21</td>\n",
       "    </tr>\n",
       "    <tr>\n",
       "      <th>5</th>\n",
       "      <td>324.22</td>\n",
       "    </tr>\n",
       "    <tr>\n",
       "      <th>6</th>\n",
       "      <td>100.98</td>\n",
       "    </tr>\n",
       "    <tr>\n",
       "      <th>7</th>\n",
       "      <td>63.90</td>\n",
       "    </tr>\n",
       "    <tr>\n",
       "      <th>8</th>\n",
       "      <td>280.28</td>\n",
       "    </tr>\n",
       "    <tr>\n",
       "      <th>9</th>\n",
       "      <td>394.82</td>\n",
       "    </tr>\n",
       "    <tr>\n",
       "      <th>10</th>\n",
       "      <td>45.52</td>\n",
       "    </tr>\n",
       "    <tr>\n",
       "      <th>11</th>\n",
       "      <td>363.30</td>\n",
       "    </tr>\n",
       "    <tr>\n",
       "      <th>12</th>\n",
       "      <td>362.18</td>\n",
       "    </tr>\n",
       "    <tr>\n",
       "      <th rowspan=\"3\" valign=\"top\">2021</th>\n",
       "      <th>1</th>\n",
       "      <td>261.30</td>\n",
       "    </tr>\n",
       "    <tr>\n",
       "      <th>2</th>\n",
       "      <td>26.91</td>\n",
       "    </tr>\n",
       "    <tr>\n",
       "      <th>3</th>\n",
       "      <td>69.84</td>\n",
       "    </tr>\n",
       "  </tbody>\n",
       "</table>\n",
       "</div>"
      ],
      "text/plain": [
       "                       Item Total\n",
       "Order Date Order Date            \n",
       "2017       9                82.31\n",
       "           10               40.93\n",
       "           11              121.17\n",
       "           12              117.84\n",
       "2018       1               189.05\n",
       "           2               126.36\n",
       "           3               111.28\n",
       "           4               297.87\n",
       "           5               162.13\n",
       "           6                66.15\n",
       "           8                38.18\n",
       "           9                55.26\n",
       "           10                6.99\n",
       "           11               51.04\n",
       "           12               65.31\n",
       "2019       1                79.94\n",
       "           2                78.44\n",
       "           3               344.01\n",
       "           5               108.12\n",
       "           7                40.08\n",
       "           8                59.93\n",
       "           9               127.49\n",
       "           10               78.11\n",
       "           11              305.73\n",
       "           12              471.04\n",
       "2020       1               224.06\n",
       "           2               127.18\n",
       "           3               210.25\n",
       "           4               291.21\n",
       "           5               324.22\n",
       "           6               100.98\n",
       "           7                63.90\n",
       "           8               280.28\n",
       "           9               394.82\n",
       "           10               45.52\n",
       "           11              363.30\n",
       "           12              362.18\n",
       "2021       1               261.30\n",
       "           2                26.91\n",
       "           3                69.84"
      ]
     },
     "execution_count": 32,
     "metadata": {},
     "output_type": "execute_result"
    }
   ],
   "source": [
    "amazon_grouped.head(43)"
   ]
  },
  {
   "cell_type": "code",
   "execution_count": 57,
   "metadata": {},
   "outputs": [
    {
     "data": {
      "image/png": "[encoded data removed]",
      "text/plain": [
       "<Figure size 1080x504 with 1 Axes>"
      ]
     },
     "metadata": {
      "needs_background": "light"
     },
     "output_type": "display_data"
    }
   ],
   "source": [
    "# Create figure for each month and year \n",
    "fig, ax = plt.subplots(figsize=(15,7))\n",
    "amazon_grouped.plot.bar(ax=ax, title = \"Ozhan's Entire History of Amazon Spending by Month\")\n",
    "ax.set_xlabel(\"Month, Year\")\n",
    "ax.set_ylabel(\"Dollars\")\n",
    "plt.show()"
   ]
  },
  {
   "cell_type": "code",
   "execution_count": 48,
   "metadata": {},
   "outputs": [],
   "source": [
    "#Since 2017 and 2021 have only partial data, we will use 2018-2020\n",
    "amazon_yearly = amazon_data.loc[(amazon_data['Order Date'] >= '2018-01-01') & \n",
    "                               (amazon_data['Order Date'] <= '2020-12-31')]\n",
    "amazon_yearly = amazon_data.groupby([amazon_yearly['Order Date'].dt.year]).agg({'Item Total': sum})"
   ]
  },
  {
   "cell_type": "code",
   "execution_count": 49,
   "metadata": {},
   "outputs": [
    {
     "data": {
      "image/png": "[encoded data removed]",
      "text/plain": [
       "<Figure size 1080x504 with 1 Axes>"
      ]
     },
     "metadata": {
      "needs_background": "light"
     },
     "output_type": "display_data"
    }
   ],
   "source": [
    "#Now we want to graph by just year, to compare spending in 2018 vs. 2019 vs. 2020 \n",
    "fig, ax = plt.subplots(figsize = (15,7))\n",
    "amazon_yearly.plot.bar(ax=ax, title = \"Ozhan's Amazon Spending By Year\")\n",
    "plt.xticks(rotation=\"horizontal\")\n",
    "ax.set_xlabel(\"Year\")\n",
    "ax.set_ylabel(\"Dollars\")\n",
    "plt.show()"
   ]
  }
 ],
 "metadata": {
  "kernelspec": {
   "display_name": "Python 3",
   "language": "python",
   "name": "python3"
  },
  "language_info": {
   "codemirror_mode": {
    "name": "ipython",
    "version": 3
   },
   "file_extension": ".py",
   "mimetype": "text/x-python",
   "name": "python",
   "nbconvert_exporter": "python",
   "pygments_lexer": "ipython3",
   "version": "3.8.5"
  }
 },
 "nbformat": 4,
 "nbformat_minor": 4
}
